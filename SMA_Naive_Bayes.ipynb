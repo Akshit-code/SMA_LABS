{
 "cells": [
  {
   "cell_type": "code",
   "execution_count": 2,
   "metadata": {
    "id": "IHoSp1QyPmPN"
   },
   "outputs": [],
   "source": [
    "import numpy as np\n",
    "import pandas as pd\n",
    "import re\n",
    "import nltk"
   ]
  },
  {
   "cell_type": "code",
   "execution_count": 3,
   "metadata": {
    "id": "VJbnFC0tUKzH"
   },
   "outputs": [],
   "source": [
    "df = pd.read_csv(\"Twitter_Data.csv\")"
   ]
  },
  {
   "cell_type": "code",
   "execution_count": 4,
   "metadata": {
    "colab": {
     "base_uri": "https://localhost:8080/"
    },
    "id": "TAVH51aPUS0g",
    "outputId": "e0bb41d7-01ba-4ca8-bbab-5d54ec6f57f5"
   },
   "outputs": [
    {
     "data": {
      "text/plain": [
       "(162980, 2)"
      ]
     },
     "execution_count": 4,
     "metadata": {},
     "output_type": "execute_result"
    }
   ],
   "source": [
    "df.shape"
   ]
  },
  {
   "cell_type": "code",
   "execution_count": 5,
   "metadata": {
    "colab": {
     "base_uri": "https://localhost:8080/"
    },
    "id": "aGjjD6kFUjI0",
    "outputId": "b8528e11-e0ed-4a71-cdef-52e3c757c616"
   },
   "outputs": [
    {
     "name": "stdout",
     "output_type": "stream",
     "text": [
      "<class 'pandas.core.frame.DataFrame'>\n",
      "RangeIndex: 162980 entries, 0 to 162979\n",
      "Data columns (total 2 columns):\n",
      " #   Column      Non-Null Count   Dtype  \n",
      "---  ------      --------------   -----  \n",
      " 0   clean_text  162976 non-null  object \n",
      " 1   category    162973 non-null  float64\n",
      "dtypes: float64(1), object(1)\n",
      "memory usage: 2.5+ MB\n"
     ]
    }
   ],
   "source": [
    "df.info()"
   ]
  },
  {
   "cell_type": "code",
   "execution_count": 6,
   "metadata": {
    "colab": {
     "base_uri": "https://localhost:8080/",
     "height": 206
    },
    "id": "fN6j25f-Um3E",
    "outputId": "d4fe5a0a-0d44-4ac5-e303-727431eb96ac"
   },
   "outputs": [
    {
     "data": {
      "text/html": [
       "<div>\n",
       "<style scoped>\n",
       "    .dataframe tbody tr th:only-of-type {\n",
       "        vertical-align: middle;\n",
       "    }\n",
       "\n",
       "    .dataframe tbody tr th {\n",
       "        vertical-align: top;\n",
       "    }\n",
       "\n",
       "    .dataframe thead th {\n",
       "        text-align: right;\n",
       "    }\n",
       "</style>\n",
       "<table border=\"1\" class=\"dataframe\">\n",
       "  <thead>\n",
       "    <tr style=\"text-align: right;\">\n",
       "      <th></th>\n",
       "      <th>clean_text</th>\n",
       "      <th>category</th>\n",
       "    </tr>\n",
       "  </thead>\n",
       "  <tbody>\n",
       "    <tr>\n",
       "      <th>0</th>\n",
       "      <td>when modi promised “minimum government maximum...</td>\n",
       "      <td>-1.0</td>\n",
       "    </tr>\n",
       "    <tr>\n",
       "      <th>1</th>\n",
       "      <td>talk all the nonsense and continue all the dra...</td>\n",
       "      <td>0.0</td>\n",
       "    </tr>\n",
       "    <tr>\n",
       "      <th>2</th>\n",
       "      <td>what did just say vote for modi  welcome bjp t...</td>\n",
       "      <td>1.0</td>\n",
       "    </tr>\n",
       "    <tr>\n",
       "      <th>3</th>\n",
       "      <td>asking his supporters prefix chowkidar their n...</td>\n",
       "      <td>1.0</td>\n",
       "    </tr>\n",
       "    <tr>\n",
       "      <th>4</th>\n",
       "      <td>answer who among these the most powerful world...</td>\n",
       "      <td>1.0</td>\n",
       "    </tr>\n",
       "  </tbody>\n",
       "</table>\n",
       "</div>"
      ],
      "text/plain": [
       "                                          clean_text  category\n",
       "0  when modi promised “minimum government maximum...      -1.0\n",
       "1  talk all the nonsense and continue all the dra...       0.0\n",
       "2  what did just say vote for modi  welcome bjp t...       1.0\n",
       "3  asking his supporters prefix chowkidar their n...       1.0\n",
       "4  answer who among these the most powerful world...       1.0"
      ]
     },
     "execution_count": 6,
     "metadata": {},
     "output_type": "execute_result"
    }
   ],
   "source": [
    "df.head()"
   ]
  },
  {
   "cell_type": "code",
   "execution_count": 7,
   "metadata": {
    "colab": {
     "base_uri": "https://localhost:8080/",
     "height": 206
    },
    "id": "UGU971PwUqX0",
    "outputId": "caacd3b3-4a19-4e1e-a88e-c9aa90f1e13c"
   },
   "outputs": [
    {
     "data": {
      "text/html": [
       "<div>\n",
       "<style scoped>\n",
       "    .dataframe tbody tr th:only-of-type {\n",
       "        vertical-align: middle;\n",
       "    }\n",
       "\n",
       "    .dataframe tbody tr th {\n",
       "        vertical-align: top;\n",
       "    }\n",
       "\n",
       "    .dataframe thead th {\n",
       "        text-align: right;\n",
       "    }\n",
       "</style>\n",
       "<table border=\"1\" class=\"dataframe\">\n",
       "  <thead>\n",
       "    <tr style=\"text-align: right;\">\n",
       "      <th></th>\n",
       "      <th>clean_text</th>\n",
       "      <th>category</th>\n",
       "    </tr>\n",
       "  </thead>\n",
       "  <tbody>\n",
       "    <tr>\n",
       "      <th>162975</th>\n",
       "      <td>why these 456 crores paid neerav modi not reco...</td>\n",
       "      <td>-1.0</td>\n",
       "    </tr>\n",
       "    <tr>\n",
       "      <th>162976</th>\n",
       "      <td>dear rss terrorist payal gawar what about modi...</td>\n",
       "      <td>-1.0</td>\n",
       "    </tr>\n",
       "    <tr>\n",
       "      <th>162977</th>\n",
       "      <td>did you cover her interaction forum where she ...</td>\n",
       "      <td>0.0</td>\n",
       "    </tr>\n",
       "    <tr>\n",
       "      <th>162978</th>\n",
       "      <td>there big project came into india modi dream p...</td>\n",
       "      <td>0.0</td>\n",
       "    </tr>\n",
       "    <tr>\n",
       "      <th>162979</th>\n",
       "      <td>have you ever listen about like gurukul where ...</td>\n",
       "      <td>1.0</td>\n",
       "    </tr>\n",
       "  </tbody>\n",
       "</table>\n",
       "</div>"
      ],
      "text/plain": [
       "                                               clean_text  category\n",
       "162975  why these 456 crores paid neerav modi not reco...      -1.0\n",
       "162976  dear rss terrorist payal gawar what about modi...      -1.0\n",
       "162977  did you cover her interaction forum where she ...       0.0\n",
       "162978  there big project came into india modi dream p...       0.0\n",
       "162979  have you ever listen about like gurukul where ...       1.0"
      ]
     },
     "execution_count": 7,
     "metadata": {},
     "output_type": "execute_result"
    }
   ],
   "source": [
    "df.tail()"
   ]
  },
  {
   "cell_type": "code",
   "execution_count": 8,
   "metadata": {
    "id": "XGjHIpT1Ux2-"
   },
   "outputs": [],
   "source": [
    "def strip_tags(text):         \n",
    "    pattern = re.compile('<.*?>')   \n",
    "    result = re.sub(pattern,'', str(text))\n",
    "    return result "
   ]
  },
  {
   "cell_type": "code",
   "execution_count": 9,
   "metadata": {
    "id": "WjGmApX5VASz"
   },
   "outputs": [],
   "source": [
    "def to_lower(str):\n",
    "    return str.lower()"
   ]
  },
  {
   "cell_type": "code",
   "execution_count": 10,
   "metadata": {
    "id": "yiqOZVsfVKn6"
   },
   "outputs": [],
   "source": [
    "df[\"clean_text\"] = df[\"clean_text\"].apply(strip_tags)"
   ]
  },
  {
   "cell_type": "code",
   "execution_count": 11,
   "metadata": {
    "colab": {
     "base_uri": "https://localhost:8080/"
    },
    "id": "IO30fY1AVQ0L",
    "outputId": "5d7148b0-ede9-430a-d5f5-a944ed6b3dd6"
   },
   "outputs": [
    {
     "data": {
      "text/plain": [
       "0         when modi promised “minimum government maximum...\n",
       "1         talk all the nonsense and continue all the dra...\n",
       "2         what did just say vote for modi  welcome bjp t...\n",
       "3         asking his supporters prefix chowkidar their n...\n",
       "4         answer who among these the most powerful world...\n",
       "                                ...                        \n",
       "162975    why these 456 crores paid neerav modi not reco...\n",
       "162976    dear rss terrorist payal gawar what about modi...\n",
       "162977    did you cover her interaction forum where she ...\n",
       "162978    there big project came into india modi dream p...\n",
       "162979    have you ever listen about like gurukul where ...\n",
       "Name: clean_text, Length: 162980, dtype: object"
      ]
     },
     "execution_count": 11,
     "metadata": {},
     "output_type": "execute_result"
    }
   ],
   "source": [
    "df[\"clean_text\"]"
   ]
  },
  {
   "cell_type": "code",
   "execution_count": 12,
   "metadata": {
    "id": "_IzxyZezVS4z"
   },
   "outputs": [],
   "source": [
    "df[\"clean_text\"] = df[\"clean_text\"].apply(to_lower)"
   ]
  },
  {
   "cell_type": "code",
   "execution_count": 13,
   "metadata": {
    "colab": {
     "base_uri": "https://localhost:8080/"
    },
    "id": "nXxPPp32VhrG",
    "outputId": "7d8c38a0-3aab-4576-fdf6-b590b673981b"
   },
   "outputs": [
    {
     "data": {
      "text/plain": [
       "0         when modi promised “minimum government maximum...\n",
       "1         talk all the nonsense and continue all the dra...\n",
       "2         what did just say vote for modi  welcome bjp t...\n",
       "3         asking his supporters prefix chowkidar their n...\n",
       "4         answer who among these the most powerful world...\n",
       "                                ...                        \n",
       "162975    why these 456 crores paid neerav modi not reco...\n",
       "162976    dear rss terrorist payal gawar what about modi...\n",
       "162977    did you cover her interaction forum where she ...\n",
       "162978    there big project came into india modi dream p...\n",
       "162979    have you ever listen about like gurukul where ...\n",
       "Name: clean_text, Length: 162980, dtype: object"
      ]
     },
     "execution_count": 13,
     "metadata": {},
     "output_type": "execute_result"
    }
   ],
   "source": [
    "df[\"clean_text\"]"
   ]
  },
  {
   "cell_type": "code",
   "execution_count": 14,
   "metadata": {
    "colab": {
     "base_uri": "https://localhost:8080/"
    },
    "id": "zlH1X3_4Vju9",
    "outputId": "8d67658b-edb1-4581-d776-e346d5672a2a"
   },
   "outputs": [
    {
     "data": {
      "text/plain": [
       "15    vote such party and leadershipwho can take fas...\n",
       "16                   vote modi who has not created jobs\n",
       "17    through our vote ensure govt need and deserve ...\n",
       "18    dont play with the words was talking about the...\n",
       "19    didn’ write chowkidar does mean ’ anti modi tr...\n",
       "Name: clean_text, dtype: object"
      ]
     },
     "execution_count": 14,
     "metadata": {},
     "output_type": "execute_result"
    }
   ],
   "source": [
    "df['clean_text'][15:20]"
   ]
  },
  {
   "cell_type": "code",
   "execution_count": 15,
   "metadata": {
    "id": "C5TiLv4hVlZm"
   },
   "outputs": [],
   "source": [
    "def clean_data(text):     \n",
    "    result = re.sub('([^\\x61-\\x7A ])+', '', text)\n",
    "    return result "
   ]
  },
  {
   "cell_type": "code",
   "execution_count": 16,
   "metadata": {
    "id": "UGQlljUjVox-"
   },
   "outputs": [],
   "source": [
    "df[\"clean_text\"] = df[\"clean_text\"].apply(clean_data)"
   ]
  },
  {
   "cell_type": "code",
   "execution_count": 17,
   "metadata": {
    "colab": {
     "base_uri": "https://localhost:8080/"
    },
    "id": "JeVoCgqdVrqn",
    "outputId": "fabe342b-36df-44e2-8779-418f54d1997c"
   },
   "outputs": [
    {
     "data": {
      "text/plain": [
       "15    vote such party and leadershipwho can take fas...\n",
       "16                   vote modi who has not created jobs\n",
       "17    through our vote ensure govt need and deserve ...\n",
       "18    dont play with the words was talking about the...\n",
       "19    didn write chowkidar does mean  anti modi try ...\n",
       "Name: clean_text, dtype: object"
      ]
     },
     "execution_count": 17,
     "metadata": {},
     "output_type": "execute_result"
    }
   ],
   "source": [
    "df['clean_text'][15:20]"
   ]
  },
  {
   "cell_type": "code",
   "execution_count": 18,
   "metadata": {
    "colab": {
     "base_uri": "https://localhost:8080/",
     "height": 206
    },
    "id": "3ZyIGpLqWAdD",
    "outputId": "9b1e3330-45dd-4b62-fc9f-53d75fbf940a"
   },
   "outputs": [
    {
     "data": {
      "text/html": [
       "<div>\n",
       "<style scoped>\n",
       "    .dataframe tbody tr th:only-of-type {\n",
       "        vertical-align: middle;\n",
       "    }\n",
       "\n",
       "    .dataframe tbody tr th {\n",
       "        vertical-align: top;\n",
       "    }\n",
       "\n",
       "    .dataframe thead th {\n",
       "        text-align: right;\n",
       "    }\n",
       "</style>\n",
       "<table border=\"1\" class=\"dataframe\">\n",
       "  <thead>\n",
       "    <tr style=\"text-align: right;\">\n",
       "      <th></th>\n",
       "      <th>clean_text</th>\n",
       "      <th>category</th>\n",
       "    </tr>\n",
       "  </thead>\n",
       "  <tbody>\n",
       "    <tr>\n",
       "      <th>0</th>\n",
       "      <td>when modi promised minimum government maximum ...</td>\n",
       "      <td>-1.0</td>\n",
       "    </tr>\n",
       "    <tr>\n",
       "      <th>1</th>\n",
       "      <td>talk all the nonsense and continue all the dra...</td>\n",
       "      <td>0.0</td>\n",
       "    </tr>\n",
       "    <tr>\n",
       "      <th>2</th>\n",
       "      <td>what did just say vote for modi  welcome bjp t...</td>\n",
       "      <td>1.0</td>\n",
       "    </tr>\n",
       "    <tr>\n",
       "      <th>3</th>\n",
       "      <td>asking his supporters prefix chowkidar their n...</td>\n",
       "      <td>1.0</td>\n",
       "    </tr>\n",
       "    <tr>\n",
       "      <th>4</th>\n",
       "      <td>answer who among these the most powerful world...</td>\n",
       "      <td>1.0</td>\n",
       "    </tr>\n",
       "  </tbody>\n",
       "</table>\n",
       "</div>"
      ],
      "text/plain": [
       "                                          clean_text  category\n",
       "0  when modi promised minimum government maximum ...      -1.0\n",
       "1  talk all the nonsense and continue all the dra...       0.0\n",
       "2  what did just say vote for modi  welcome bjp t...       1.0\n",
       "3  asking his supporters prefix chowkidar their n...       1.0\n",
       "4  answer who among these the most powerful world...       1.0"
      ]
     },
     "execution_count": 18,
     "metadata": {},
     "output_type": "execute_result"
    }
   ],
   "source": [
    "df.head()"
   ]
  },
  {
   "cell_type": "code",
   "execution_count": 19,
   "metadata": {
    "colab": {
     "base_uri": "https://localhost:8080/",
     "height": 36
    },
    "id": "OCGqZ5krWDgT",
    "outputId": "0034e3b9-bdbb-495e-c2df-787b751a1e5c"
   },
   "outputs": [
    {
     "data": {
      "text/plain": [
       "'didn write chowkidar does mean  anti modi try visit the plz not all who haven used are anti '"
      ]
     },
     "execution_count": 19,
     "metadata": {},
     "output_type": "execute_result"
    }
   ],
   "source": [
    "df.iloc[19].clean_text"
   ]
  },
  {
   "cell_type": "code",
   "execution_count": null,
   "metadata": {
    "id": "gRrSeQaZWwh1"
   },
   "outputs": [],
   "source": [
    "from nltk.corpus import stopwords"
   ]
  },
  {
   "cell_type": "code",
   "execution_count": null,
   "metadata": {
    "colab": {
     "base_uri": "https://localhost:8080/"
    },
    "id": "UOpKJ4gQXrE5",
    "outputId": "5d2ecfa4-759b-43bd-e2f3-b0b4fea20cb9"
   },
   "outputs": [],
   "source": [
    "#! python -m nltk.downloader all"
   ]
  },
  {
   "cell_type": "code",
   "execution_count": null,
   "metadata": {
    "id": "DLI2vngvWKF1"
   },
   "outputs": [],
   "source": [
    "def remove_stopwords(text):\n",
    "    temp = []\n",
    "    for i in text.split():        \n",
    "        if i not in stopwords.words('english'):\n",
    "            temp.append(i)            \n",
    "    result = temp[:]\n",
    "    temp.clear()\n",
    "    return result"
   ]
  },
  {
   "cell_type": "code",
   "execution_count": null,
   "metadata": {
    "id": "WIiENaTwWdGm"
   },
   "outputs": [],
   "source": [
    "df[\"clean_text\"] = df[\"clean_text\"].apply(remove_stopwords)"
   ]
  },
  {
   "cell_type": "code",
   "execution_count": null,
   "metadata": {
    "colab": {
     "base_uri": "https://localhost:8080/",
     "height": 206
    },
    "id": "hdoflaASWlc8",
    "outputId": "c4b65c34-48c7-4613-a1c2-a5f000616dcf"
   },
   "outputs": [],
   "source": [
    "df.head()"
   ]
  },
  {
   "cell_type": "code",
   "execution_count": null,
   "metadata": {
    "id": "XxvEr0VXZ4mr"
   },
   "outputs": [],
   "source": [
    "def stem_words(text):\n",
    "    temp = []\n",
    "    for i in text:\n",
    "        temp.append(ps.stem(i))       \n",
    "    result = temp[:]\n",
    "    temp.clear()\n",
    "    return result"
   ]
  },
  {
   "cell_type": "code",
   "execution_count": null,
   "metadata": {
    "id": "Nzyf97DxaDW3"
   },
   "outputs": [],
   "source": [
    "df[\"clean_text\"] = df[\"clean_text\"].apply(stem_words)"
   ]
  },
  {
   "cell_type": "code",
   "execution_count": null,
   "metadata": {
    "id": "e23H16prYZOO"
   },
   "outputs": [],
   "source": [
    "from nltk.stem.porter import PorterStemmer\n",
    "from nltk.tokenize import word_tokenize\n",
    "ps = PorterStemmer()"
   ]
  },
  {
   "cell_type": "code",
   "execution_count": null,
   "metadata": {
    "id": "b-IptOUJZg2Z"
   },
   "outputs": [],
   "source": [
    "def list_to_sentence(wl):\n",
    "    return \" \".join(wl)"
   ]
  },
  {
   "cell_type": "code",
   "execution_count": null,
   "metadata": {
    "id": "4xiHzRXAaOy-"
   },
   "outputs": [],
   "source": [
    "df[\"clean_text\"] = df[\"clean_text\"].apply(list_to_sentence)"
   ]
  },
  {
   "cell_type": "code",
   "execution_count": null,
   "metadata": {
    "id": "CX4Aul3yaeLe"
   },
   "outputs": [],
   "source": [
    "from sklearn.feature_extraction.text import CountVectorizer\n",
    "cv = CountVectorizer(max_features=500)"
   ]
  },
  {
   "cell_type": "code",
   "execution_count": null,
   "metadata": {
    "id": "LY8BtYSzafOw"
   },
   "outputs": [],
   "source": [
    "X = cv.fit_transform(df['clean_text']).toarray()"
   ]
  },
  {
   "cell_type": "code",
   "execution_count": null,
   "metadata": {
    "colab": {
     "base_uri": "https://localhost:8080/"
    },
    "id": "tOVCAM9maiUH",
    "outputId": "90c2a61e-06b8-4238-b33e-886a72248801"
   },
   "outputs": [],
   "source": [
    "X.shape"
   ]
  },
  {
   "cell_type": "code",
   "execution_count": null,
   "metadata": {
    "colab": {
     "base_uri": "https://localhost:8080/"
    },
    "id": "7gVxRXWXasAI",
    "outputId": "c9b698fb-4107-49d1-a8aa-5f93029ff400"
   },
   "outputs": [],
   "source": [
    "df.iloc[:,-1]"
   ]
  },
  {
   "cell_type": "code",
   "execution_count": null,
   "metadata": {
    "id": "tbs57_2hat9I"
   },
   "outputs": [],
   "source": [
    "X = cv.fit_transform(df['clean_text']).toarray()"
   ]
  },
  {
   "cell_type": "code",
   "execution_count": null,
   "metadata": {
    "colab": {
     "base_uri": "https://localhost:8080/"
    },
    "id": "8hHpccxPbDmz",
    "outputId": "4ebc708f-3e28-4dc3-a190-0023b760f4d8"
   },
   "outputs": [],
   "source": [
    "X.shape"
   ]
  },
  {
   "cell_type": "code",
   "execution_count": null,
   "metadata": {
    "colab": {
     "base_uri": "https://localhost:8080/"
    },
    "id": "2u1Oz7osbGGe",
    "outputId": "db0751fe-7ef7-4101-8f3d-2555a1093590"
   },
   "outputs": [],
   "source": [
    "df.iloc[:,-1]"
   ]
  },
  {
   "cell_type": "code",
   "execution_count": null,
   "metadata": {
    "colab": {
     "base_uri": "https://localhost:8080/"
    },
    "id": "DGjM_lk5bJKD",
    "outputId": "b475fbc7-3417-482e-f6ca-0b78de5ba48b"
   },
   "outputs": [],
   "source": [
    "df[\"category\"]"
   ]
  },
  {
   "cell_type": "code",
   "execution_count": null,
   "metadata": {
    "colab": {
     "base_uri": "https://localhost:8080/"
    },
    "id": "3kHveaQqbKj7",
    "outputId": "667b7a88-2fef-4752-fdf7-f458f0893afd"
   },
   "outputs": [],
   "source": [
    "df[\"category\"].isna().sum()"
   ]
  },
  {
   "cell_type": "code",
   "execution_count": null,
   "metadata": {
    "colab": {
     "base_uri": "https://localhost:8080/"
    },
    "id": "LGOvTXphbjJG",
    "outputId": "ac047c88-eba5-44b8-978b-c5a3d5ffeff7"
   },
   "outputs": [],
   "source": [
    "df.isnull().sum()"
   ]
  },
  {
   "cell_type": "code",
   "execution_count": null,
   "metadata": {
    "colab": {
     "base_uri": "https://localhost:8080/"
    },
    "id": "7IPJfAPxblCN",
    "outputId": "4b2151c4-8faf-4fac-d0fd-a824fe6d32cb"
   },
   "outputs": [],
   "source": [
    "df[\"category\"].isna().sum()"
   ]
  },
  {
   "cell_type": "code",
   "execution_count": null,
   "metadata": {
    "id": "MuuVdFtEbm_v"
   },
   "outputs": [],
   "source": [
    "df[\"category\"] = df[\"category\"].replace(np.nan, 0)"
   ]
  },
  {
   "cell_type": "code",
   "execution_count": null,
   "metadata": {
    "colab": {
     "base_uri": "https://localhost:8080/"
    },
    "id": "mUU_fIvzbo2u",
    "outputId": "52da74b7-707e-4f88-e53f-2098ae6e3e68"
   },
   "outputs": [],
   "source": [
    "df[\"category\"].isna().sum()"
   ]
  },
  {
   "cell_type": "code",
   "execution_count": null,
   "metadata": {
    "id": "PhAFVKJHbqWn"
   },
   "outputs": [],
   "source": [
    "def float_to_int(a):\n",
    "    return int(a)"
   ]
  },
  {
   "cell_type": "code",
   "execution_count": null,
   "metadata": {
    "id": "tBqw8VWZbttm"
   },
   "outputs": [],
   "source": [
    "df[\"category\"] = df[\"category\"].apply(float_to_int)"
   ]
  },
  {
   "cell_type": "code",
   "execution_count": null,
   "metadata": {
    "colab": {
     "base_uri": "https://localhost:8080/"
    },
    "id": "FHBi5uPcbvvo",
    "outputId": "dc8f6348-d1b2-45b9-bcf4-a0eb6245ded8"
   },
   "outputs": [],
   "source": [
    "df[\"category\"]"
   ]
  },
  {
   "cell_type": "code",
   "execution_count": null,
   "metadata": {
    "id": "5mvfBbkObx04"
   },
   "outputs": [],
   "source": [
    "y=df.iloc[:,-1].values"
   ]
  },
  {
   "cell_type": "code",
   "execution_count": null,
   "metadata": {
    "colab": {
     "base_uri": "https://localhost:8080/"
    },
    "id": "Od7DxKS9bzao",
    "outputId": "80a02ae3-2031-4428-d498-53f91761a086"
   },
   "outputs": [],
   "source": [
    "y.shape"
   ]
  },
  {
   "cell_type": "code",
   "execution_count": null,
   "metadata": {
    "id": "AbyYo3jCb2Y3"
   },
   "outputs": [],
   "source": [
    "from sklearn.model_selection import train_test_split\n",
    "#process 20% test data\n",
    "X_train, X_test, y_train, y_test = train_test_split(X,y,test_size=0.2)"
   ]
  },
  {
   "cell_type": "code",
   "execution_count": null,
   "metadata": {
    "colab": {
     "base_uri": "https://localhost:8080/"
    },
    "id": "dzapPaTmb5YQ",
    "outputId": "3f09dbe9-c965-490c-b82f-b5fb792d80bc"
   },
   "outputs": [],
   "source": [
    "X_train.shape"
   ]
  },
  {
   "cell_type": "code",
   "execution_count": null,
   "metadata": {
    "colab": {
     "base_uri": "https://localhost:8080/"
    },
    "id": "nnOz9LcAb9jp",
    "outputId": "d75d849d-b8c7-404f-9588-34e7bcdbdeb9"
   },
   "outputs": [],
   "source": [
    "y_train.shape"
   ]
  },
  {
   "cell_type": "code",
   "execution_count": null,
   "metadata": {
    "colab": {
     "base_uri": "https://localhost:8080/"
    },
    "id": "0UrDVdvrcA1J",
    "outputId": "a87908b1-555a-4848-c837-9881a2bb3cc6"
   },
   "outputs": [],
   "source": [
    "y_test.shape"
   ]
  },
  {
   "cell_type": "code",
   "execution_count": null,
   "metadata": {
    "id": "RFr5fNuKcCtR"
   },
   "outputs": [],
   "source": [
    "from sklearn.naive_bayes import GaussianNB, MultinomialNB, BernoulliNB"
   ]
  },
  {
   "cell_type": "code",
   "execution_count": null,
   "metadata": {
    "id": "qvSDwc8KcGya"
   },
   "outputs": [],
   "source": [
    "gObj = GaussianNB()\n",
    "mObj = MultinomialNB()\n",
    "bObj = BernoulliNB()"
   ]
  },
  {
   "cell_type": "code",
   "execution_count": null,
   "metadata": {
    "colab": {
     "base_uri": "https://localhost:8080/",
     "height": 74
    },
    "id": "XqLD-em6ccvt",
    "outputId": "d6e450a7-855d-4dcb-88bf-845642a8495c"
   },
   "outputs": [],
   "source": [
    "gObj.fit(X_train, y_train)\n",
    "mObj.fit(X_train, y_train)\n",
    "bObj.fit(X_train, y_train)"
   ]
  },
  {
   "cell_type": "code",
   "execution_count": null,
   "metadata": {
    "colab": {
     "base_uri": "https://localhost:8080/"
    },
    "id": "0wEffLvdceb0",
    "outputId": "ea267358-b9e6-47de-bef3-e8f834584fc5"
   },
   "outputs": [],
   "source": [
    "y_pred_gauss = gObj.predict(X_test)\n",
    "y_pred_gauss.shape\n"
   ]
  },
  {
   "cell_type": "code",
   "execution_count": null,
   "metadata": {
    "colab": {
     "base_uri": "https://localhost:8080/"
    },
    "id": "QETcV4f4cihF",
    "outputId": "c58e3dd5-4006-4256-add9-8bc54e377713"
   },
   "outputs": [],
   "source": [
    "y_pred_multinom = mObj.predict(X_test)\n",
    "y_pred_multinom.shape"
   ]
  },
  {
   "cell_type": "code",
   "execution_count": null,
   "metadata": {
    "colab": {
     "base_uri": "https://localhost:8080/"
    },
    "id": "AhGlSfixckpF",
    "outputId": "381dedcc-8fb8-44b6-b5f5-0792a8d7ccba"
   },
   "outputs": [],
   "source": [
    "y_pred_berno = bObj.predict(X_test)\n",
    "y_pred_berno.shape"
   ]
  },
  {
   "cell_type": "code",
   "execution_count": null,
   "metadata": {
    "id": "vQPtW_6dctl2"
   },
   "outputs": [],
   "source": [
    "from sklearn.metrics import accuracy_score"
   ]
  },
  {
   "cell_type": "code",
   "execution_count": null,
   "metadata": {
    "colab": {
     "base_uri": "https://localhost:8080/"
    },
    "id": "-ULwOo9bcvN2",
    "outputId": "e283749b-32e1-4e63-c747-62791fbd7573"
   },
   "outputs": [],
   "source": [
    "print(\"Gaussian\", accuracy_score(y_test,y_pred_gauss))"
   ]
  },
  {
   "cell_type": "code",
   "execution_count": null,
   "metadata": {
    "colab": {
     "base_uri": "https://localhost:8080/"
    },
    "id": "OvBd2zI5cz4-",
    "outputId": "545997ba-aecd-443b-c460-4d222a96a986"
   },
   "outputs": [],
   "source": [
    "print(\"Multinomial\", accuracy_score(y_test,y_pred_multinom))"
   ]
  },
  {
   "cell_type": "code",
   "execution_count": null,
   "metadata": {
    "colab": {
     "base_uri": "https://localhost:8080/"
    },
    "id": "bL8iAj-6c2nQ",
    "outputId": "e1441d9d-4e4d-4f4c-e188-e705b3fb5e74"
   },
   "outputs": [],
   "source": [
    "print(\"BernoulliNB\", accuracy_score(y_test,y_pred_berno))"
   ]
  },
  {
   "cell_type": "code",
   "execution_count": null,
   "metadata": {
    "colab": {
     "base_uri": "https://localhost:8080/"
    },
    "id": "llpFf6btc4dY",
    "outputId": "3db4af36-62a4-40dc-9398-cc9fbc2afa99"
   },
   "outputs": [],
   "source": [
    "data = {\n",
    "  \"text\": [\"Akshit is very good person\"]\n",
    "}    \n",
    "dfx = pd.DataFrame(data)\n",
    "Xcheck = cv.transform(dfx['text']).toarray()\n",
    "print(bObj.predict(Xcheck)[0])\n",
    "print(mObj.predict(Xcheck)[0])\n",
    "print(gObj.predict(Xcheck)[0])"
   ]
  },
  {
   "cell_type": "code",
   "execution_count": null,
   "metadata": {
    "colab": {
     "base_uri": "https://localhost:8080/"
    },
    "id": "eROGnv_qc7Pg",
    "outputId": "804e2e85-db51-42f4-a653-04a7cd0e3a27"
   },
   "outputs": [],
   "source": [
    "data = {\n",
    "  \"text\": [\"Akshit is a very nice person\"]\n",
    "}    \n",
    "dfx = pd.DataFrame(data)\n",
    "Xcheck = cv.transform(dfx['text']).toarray()\n",
    "print(bObj.predict(Xcheck)[0])\n",
    "print(mObj.predict(Xcheck)[0])\n",
    "print(gObj.predict(Xcheck)[0])"
   ]
  },
  {
   "cell_type": "code",
   "execution_count": null,
   "metadata": {
    "colab": {
     "base_uri": "https://localhost:8080/"
    },
    "id": "xSJ0IL5HfRPE",
    "outputId": "69dc6ff9-adab-4ddb-80e0-672bcfd8e1ff"
   },
   "outputs": [],
   "source": [
    "data = {\n",
    "  \"text\": [\"Akshit is a very bad person\"]\n",
    "}    \n",
    "dfx = pd.DataFrame(data)\n",
    "Xcheck = cv.transform(dfx['text']).toarray()\n",
    "print(bObj.predict(Xcheck)[0])\n",
    "print(mObj.predict(Xcheck)[0])\n",
    "print(gObj.predict(Xcheck)[0])"
   ]
  },
  {
   "cell_type": "code",
   "execution_count": null,
   "metadata": {
    "id": "tdw57vB8fb5Y"
   },
   "outputs": [],
   "source": [
    "#This is not required for expt\n",
    "\n",
    "import pickle\n",
    "\n",
    "with open('naive_bayes_model.pkl', 'wb') as f:\n",
    "    pickle.dump(gObj, f)\n"
   ]
  },
  {
   "cell_type": "code",
   "execution_count": null,
   "metadata": {
    "id": "eCdMyQ3Dhi_y"
   },
   "outputs": [],
   "source": [
    "#This is not required for expt\n",
    "from sklearn.feature_extraction.text import CountVectorizer\n",
    "\n",
    "# Assuming that you have already created the vectorizer object\n",
    "import pickle\n",
    "\n",
    "# Save the vectorizer object as a pickle file\n",
    "with open('vectorizer.pkl', 'wb') as f:\n",
    "    pickle.dump(cv, f)"
   ]
  },
  {
   "cell_type": "code",
   "execution_count": null,
   "metadata": {
    "id": "AHeslzG5pOEz"
   },
   "outputs": [],
   "source": []
  }
 ],
 "metadata": {
  "colab": {
   "provenance": []
  },
  "kernelspec": {
   "display_name": "Python 3 (ipykernel)",
   "language": "python",
   "name": "python3"
  },
  "language_info": {
   "codemirror_mode": {
    "name": "ipython",
    "version": 3
   },
   "file_extension": ".py",
   "mimetype": "text/x-python",
   "name": "python",
   "nbconvert_exporter": "python",
   "pygments_lexer": "ipython3",
   "version": "3.11.0"
  }
 },
 "nbformat": 4,
 "nbformat_minor": 1
}
