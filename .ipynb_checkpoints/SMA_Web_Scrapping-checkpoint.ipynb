{
 "cells": [
  {
   "cell_type": "code",
   "execution_count": 2,
   "id": "cbea0632",
   "metadata": {},
   "outputs": [
    {
     "name": "stdout",
     "output_type": "stream",
     "text": [
      "Requirement already satisfied: beautifulsoup4 in c:\\users\\akshit\\appdata\\local\\programs\\python\\python311\\lib\\site-packages (4.11.1)\n",
      "Requirement already satisfied: soupsieve>1.2 in c:\\users\\akshit\\appdata\\local\\programs\\python\\python311\\lib\\site-packages (from beautifulsoup4) (2.3.2.post1)\n",
      "Note: you may need to restart the kernel to use updated packages.\n"
     ]
    },
    {
     "name": "stderr",
     "output_type": "stream",
     "text": [
      "\n",
      "[notice] A new release of pip is available: 23.0 -> 23.1\n",
      "[notice] To update, run: python.exe -m pip install --upgrade pip\n"
     ]
    }
   ],
   "source": [
    "pip install beautifulsoup4"
   ]
  },
  {
   "cell_type": "code",
   "execution_count": 3,
   "id": "3f21f60b",
   "metadata": {},
   "outputs": [
    {
     "name": "stdout",
     "output_type": "stream",
     "text": [
      "Requirement already satisfied: requests in c:\\users\\akshit\\appdata\\local\\programs\\python\\python311\\lib\\site-packages (2.28.1)\n",
      "Requirement already satisfied: charset-normalizer<3,>=2 in c:\\users\\akshit\\appdata\\local\\programs\\python\\python311\\lib\\site-packages (from requests) (2.1.1)\n",
      "Requirement already satisfied: idna<4,>=2.5 in c:\\users\\akshit\\appdata\\local\\programs\\python\\python311\\lib\\site-packages (from requests) (3.4)\n",
      "Requirement already satisfied: urllib3<1.27,>=1.21.1 in c:\\users\\akshit\\appdata\\local\\programs\\python\\python311\\lib\\site-packages (from requests) (1.26.12)\n",
      "Requirement already satisfied: certifi>=2017.4.17 in c:\\users\\akshit\\appdata\\local\\programs\\python\\python311\\lib\\site-packages (from requests) (2022.9.24)\n",
      "Note: you may need to restart the kernel to use updated packages.\n"
     ]
    },
    {
     "name": "stderr",
     "output_type": "stream",
     "text": [
      "\n",
      "[notice] A new release of pip is available: 23.0 -> 23.1\n",
      "[notice] To update, run: python.exe -m pip install --upgrade pip\n"
     ]
    }
   ],
   "source": [
    "pip install requests"
   ]
  },
  {
   "cell_type": "code",
   "execution_count": 4,
   "id": "5eef8adc",
   "metadata": {},
   "outputs": [],
   "source": [
    "from bs4 import BeautifulSoup\n",
    "import requests"
   ]
  },
  {
   "cell_type": "code",
   "execution_count": 5,
   "id": "49e78df6",
   "metadata": {},
   "outputs": [],
   "source": [
    "url = \"https://www.ebay.com/itm/182905307044?_trkparms=pageci%3Ac2603a24-e19b-11ed-b410-c2afe6b0f2f7%7Cparentrq%3Aacb081d31870a6e569044e33ffff58d0%7Ciid%3A1\""
   ]
  },
  {
   "cell_type": "code",
   "execution_count": 6,
   "id": "63c34b5d",
   "metadata": {},
   "outputs": [],
   "source": [
    "response  = requests.get(url)"
   ]
  },
  {
   "cell_type": "code",
   "execution_count": 7,
   "id": "5092bd68",
   "metadata": {},
   "outputs": [],
   "source": [
    "soup = BeautifulSoup(response.text, 'html.parser')"
   ]
  },
  {
   "cell_type": "code",
   "execution_count": 9,
   "id": "7fcde684",
   "metadata": {},
   "outputs": [],
   "source": [
    "data = soup.find_all('a')"
   ]
  },
  {
   "cell_type": "code",
   "execution_count": 13,
   "id": "06c4d3e4",
   "metadata": {},
   "outputs": [
    {
     "name": "stdout",
     "output_type": "stream",
     "text": [
      "#mainContent\n",
      "https://www.ebay.com/\n",
      "http://www.ebay.com/sch/ebayadvsearch\n",
      "https://signin.ebay.com/ws/eBayISAPI.dll?SignIn&_trksid=m570.l3348\n",
      "https://www.ebay.com/globaldeals\n",
      "https://ocsnext.ebay.com/ocs/home\n",
      "https://www.ebay.com/sl/sell\n",
      "https://www.ebay.com/mye/myebay/watchlist\n",
      "#gh-wl-click\n",
      "https://signin.ebay.com/ws/eBayISAPI.dll?SignIn&ru=ru\n",
      "https://www.ebay.com/mys/home?source=GBH\n",
      "#gh-eb-My\n",
      "https://www.ebay.com/mye/myebay/summary\n",
      "https://www.ebay.com/mye/myebay/rvi\n",
      "https://www.ebay.com/mye/myebay/v2/bidsoffers\n",
      "https://www.ebay.com/mye/myebay/watchlist\n",
      "https://www.ebay.com/mye/myebay/purchase\n",
      "https://www.ebay.com/mye/buyagain\n",
      "https://www.ebay.com/mys/home?CurrentPage=MyeBayAllSelling&ssPageName=STRK:ME:LNLK:MESX&source=GBH\n",
      "https://www.ebay.com/myb/SavedSearches\n",
      "https://www.ebay.com/myb/SavedSellers\n",
      "https://mesg.ebay.com/mesgweb/ViewMessages/0\n",
      "https://cart.payments.ebay.com/sc/view\n",
      "#gh-minicart-hover\n",
      "https://www.ebay.com\n",
      "https://www.ebay.com/b/Sporting-Goods/888/bn_1865031\n",
      "https://www.ebay.com/b/Fitness-Running-Yoga-Equipment/15273/bn_1855426\n",
      "https://www.ebay.com/b/Fitness-Gadgets/44075/bn_1944181\n",
      "https://www.ebay.com/b/Fitness-Running-Yoga-Equipment/15273/bn_1855426\n",
      "https://www.ebay.com/b/Fitness-Gadgets/44075/bn_1944181\n",
      "https://www.ebay.com/b/GPS-Running-Watches/75230/bn_1970916\n",
      "https://www.ebay.com/p/16031980308\n",
      "https://www.ebay.com/myb/WatchListAdd?item=182905307044&rt=nc&sourcePage=4340&tagId=-99&SubmitAction.AddToListVI=x&ssPageName=VIP%3Awatchlink%3Atop%3Aen&_trksid=p2047675.m2548.l1359&etn=Watch+list\n",
      "https://pages.ebay.com/ebay-money-back-guarantee/index.html\n",
      "https://www.ebay.com/usr/gpscity?_trksid=p2047675.m3561.l2559\n",
      "#LISTING_FRAME_MODULE\n",
      "https://contact.ebay.com/ws/eBayISAPI.dll?ShowSellerFAQ&iid=182905307044&requested=gpscity&redirect=0&frm=284&rt=nc&ssPageName=PageSellerM2MFAQ_VI&_trksid=p2047675.m3561.l1499\n",
      "https://www.ebay.com/str/gpscity?_trksid=p2047675.m3561.l2563\n",
      "https://www.ebay.com/sch/i.html?_ssn=gpscity&store_name=gpscity&_oac=1&_trksid=p2047675.m3561.l2562\n",
      "#rwid\n",
      "https://www.ebay.com/urw/product-reviews/16031980308?_itm=182905307044\n",
      "#ITEM_SPECIFICS_AVIP\n",
      "https://www.ebay.com/atc/binctr?item=182905307044&quantity=1&fromPage=2047675&rev=352&fb=1&gch=1\n",
      "https://www.ebay.com/atc/binctr?item=182905307044&quantity=1&fromPage=2047675&rev=352&fb=1&gch=1&hideGxo=1&_trksid=p2047675.m2548.l44296\n",
      "https://pay.ebay.com/rgxo?action=create&rypsvc=true&pagename=ryp&item=182905307044&TransactionId=-1&rev=352&_trksid=p2047675.l44297\n",
      "https://cart.payments.ebay.com/sc/add\n",
      "https://www.ebay.com/myb/WatchListAdd?item=182905307044&rt=nc&sourcePage=4340&SubmitAction.AddToListVI=x&_trksid=p2047675.l1360\n",
      "#SHIPPING_SECTION_MODULE\n",
      "https://www.ebay.com/help/buying/postage-delivery/changing-delivery-address-method/international-purchases-postage-buy?id=4057\n",
      "https://pages.ebay.com/help/buy/contextual/estimated-delivery.html\n",
      "https://pages.ebay.com/help/buy/contextual/domestic-handling-time.html\n",
      "#RETURNS_SECTION_MODULE\n",
      "https://ocswf.ebay.com/rti/compose?seller=gpscity&rt=nc&rmvHdr=true&_trksid=p2047675.m2548.l2566&items=182905307044\n",
      "https://www.ebay.com/rvh/182905307044?rt=nc&_trksid=p2047675.m148105.l48144\n",
      "https://pages.ebay.com/ru/en-us/help/sell/contextual/condition_1.html\n",
      "https://www.ebay.com/rvh/182905307044?rt=nc&_trksid=p2047675.m148105.l48144\n",
      "https://pages.ebay.com/help/buy/contextual/estimated-delivery.html\n",
      "https://www.ebay.com/help/buying/returns-refunds/return-item-refund?id=4041#section3\n",
      "https://pages.ebay.com/help/policies/money-back-guarantee.html\n",
      "https://www.ebay.com/sch/i.html?_ssn=gpscity&store_name=gpscity&_oac=1&_trksid=p2047675.m145687.l2562\n",
      "https://www.ebay.com/sch/i.html?_ssn=gpscity&store_name=gpscity&_oac=1&_trksid=p2047675.m145687.l2562\n",
      "https://www.ebay.com/str/gpscity?_trksid=p2047675.m145687.l149086\n",
      "https://contact.ebay.com/ws/eBayISAPI.dll?ShowSellerFAQ&iid=182905307044&requested=gpscity&redirect=0&frm=284&rt=nc&ssPageName=PageSellerM2MFAQ_VI&_trksid=p2047675.m145687.l149087\n",
      "https://www.ebay.com/sch/i.html?_dkr=1&iconV2Request=true&_blrs=recall_filtering&_ssn=gpscity&store_cat=0&store_name=gpscity&_oac=1\n",
      "https://www.ebay.com/str/gpscity/Mounts-for-Mobile-Electronics/_i.html?store_cat=5408845012\n",
      "https://www.ebay.com/str/gpscity/GPS-Devices/_i.html?store_cat=5408846012\n",
      "https://www.ebay.com/str/gpscity/GPS-Accessories-Parts/_i.html?store_cat=5408847012\n",
      "https://www.ebay.com/str/gpscity/Action-Cameras-Accessories/_i.html?store_cat=5408848012\n",
      "https://www.ebay.com/str/gpscity/Mobile-Phone-Accessories/_i.html?store_cat=7593158012\n",
      "https://www.ebay.com/str/gpscity/Dog-Tracking-Gear/_i.html?store_cat=10887893012\n",
      "https://www.ebay.com/str/gpscity/Cycling/_i.html?store_cat=10936470012\n",
      "https://www.ebay.com/str/gpscity/Wearables/_i.html?store_cat=12650889012\n",
      "https://www.ebay.com/str/gpscity/Marine-Boat-non-GPS/_i.html?store_cat=31608089012\n",
      "https://www.ebay.com/fdbk/feedback_profile/gpscity?filter=feedback_page%3ARECEIVED_AS_SELLER&q=182905307044\n",
      "https://www.ebay.com/itm/185626208167\n",
      "https://www.ebay.com/itm/185786478619\n",
      "https://www.ebay.com/itm/204172913519\n",
      "https://www.ebay.com/fdbk/feedback_profile/gpscity?filter=feedback_page%3ARECEIVED_AS_SELLER\n",
      "https://www.ebay.com/help/selling/listings/product-reviews?id=5186\n",
      "https://www.ebay.com/urw/write-review/16031980308?_itm=182905307044\n",
      "https://www.ebay.com/urw/product-reviews/16031980308?_itm=182905307044\n",
      "https://www.ebay.com/usr/freallo\n",
      "https://www.ebay.com/usr/rrsclothing\n",
      "https://www.ebay.com/usr/panthertotem\n",
      "https://www.ebay.com/usr/jaqbrun\n",
      "https://www.ebay.com/usr/michaest.aman-0\n",
      "javascript:;\n",
      "javascript:;\n",
      "https://www.ebay.com\n",
      "https://www.ebay.com/p/16031980308\n",
      "#\n",
      "https://www.ebay.com/b/Forerunner-Black-GPS-Running-Watches/75230/bn_115882980\n",
      "https://www.ebay.com/b/Forerunner-GPS-Running-Watches/75230/bn_11156100\n",
      "https://www.ebay.com/b/Garmin-Black-GPS-Running-Watches/75230/bn_115254081\n",
      "https://www.ebay.com/b/Garmin-GPS-Running-Watches/75230/bn_1970910\n",
      "https://www.ebay.com/b/Forerunner-Running-Jogging-GPS-Running-Watches/75230/bn_73510517\n",
      "https://www.ebay.com/b/Garmin-Gray-GPS-Running-Watches/75230/bn_115253925\n",
      "https://www.ebay.com/b/Garmin-Gold-GPS-Running-Watches/75230/bn_115253947\n",
      "https://www.ebay.com/b/Garmin-Silver-GPS-Running-Watches/75230/bn_115254104\n",
      "https://www.ebay.com/b/Garmin-Orange-GPS-Running-Watches/75230/bn_115254035\n",
      "https://www.ebay.com/b/Garmin-Pink-GPS-Running-Watches/75230/bn_115253952\n",
      "https://www.ebayinc.com/company\n",
      "https://community.ebay.com/t5/Announcements/bg-p/Announcements\n",
      "https://community.ebay.com\n",
      "https://pages.ebay.com/securitycenter/index.html\n",
      "https://pages.ebay.com/seller-center/index.html\n",
      "https://www.ebay.com/help/policies/default/ebays-rules-policies?id=4205\n",
      "https://partnernetwork.ebay.com\n",
      "https://www.ebay.com/help/home\n",
      "https://pages.ebay.com/sitemap.html\n",
      "https://www.ebayinc.com/accessibility/\n",
      "https://www.ebay.com/help/policies/member-behaviour-policies/user-agreement?id=4259\n",
      "https://www.ebay.com/help/policies/member-behaviour-policies/user-privacy-notice-privacy-policy?id=4260\n",
      "https://pages.ebay.com/payment/2.0/terms.html\n",
      "https://www.ebay.com/help/policies/member-behaviour-policies/ebay-cookie-notice?id=4267\n",
      "https://www.ebay.com/adchoice/ccpa\n",
      "https://www.ebay.com/adchoice\n"
     ]
    }
   ],
   "source": [
    "for link in data:\n",
    "    print(link.get('href'))"
   ]
  },
  {
   "cell_type": "code",
   "execution_count": null,
   "id": "e9d18000",
   "metadata": {},
   "outputs": [],
   "source": []
  }
 ],
 "metadata": {
  "kernelspec": {
   "display_name": "Python 3 (ipykernel)",
   "language": "python",
   "name": "python3"
  },
  "language_info": {
   "codemirror_mode": {
    "name": "ipython",
    "version": 3
   },
   "file_extension": ".py",
   "mimetype": "text/x-python",
   "name": "python",
   "nbconvert_exporter": "python",
   "pygments_lexer": "ipython3",
   "version": "3.11.0"
  }
 },
 "nbformat": 4,
 "nbformat_minor": 5
}
