{
 "cells": [
  {
   "cell_type": "code",
   "execution_count": null,
   "id": "3a2d2925",
   "metadata": {},
   "outputs": [],
   "source": [
    "import pandas as pd\n",
    "from sklearn.naive_bayes import GaussianNB\n",
    "from sklearn.model_selection import train_test_split\n",
    "\n",
    "# Load the dataset using pandas dataframe\n",
    "df = pd.read_csv('path/to/your/csv/file.csv')\n",
    "\n",
    "# Split the data into features and target\n",
    "X = df.drop('target_column_name', axis=1)\n",
    "y = df['target_column_name']\n",
    "\n",
    "# Split the data into training and test sets\n",
    "X_train, X_test, y_train, y_test = train_test_split(X, y, test_size=0.3, random_state=42)\n",
    "\n",
    "# Create a Gaussian Naive Bayes classifier\n",
    "gnb = GaussianNB()\n",
    "\n",
    "# Train the classifier using the training data\n",
    "gnb.fit(X_train, y_train)\n",
    "\n",
    "# Predict the classes of the test set\n",
    "y_pred = gnb.predict(X_test)\n",
    "\n",
    "# Print the accuracy score of the classifier\n",
    "print(\"Accuracy:\", gnb.score(X_test, y_test))\n"
   ]
  }
 ],
 "metadata": {
  "kernelspec": {
   "display_name": "Python 3 (ipykernel)",
   "language": "python",
   "name": "python3"
  },
  "language_info": {
   "codemirror_mode": {
    "name": "ipython",
    "version": 3
   },
   "file_extension": ".py",
   "mimetype": "text/x-python",
   "name": "python",
   "nbconvert_exporter": "python",
   "pygments_lexer": "ipython3",
   "version": "3.11.0"
  }
 },
 "nbformat": 4,
 "nbformat_minor": 5
}
